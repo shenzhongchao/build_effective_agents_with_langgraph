{
 "cells": [
  {
   "cell_type": "markdown",
   "id": "82bf5370",
   "metadata": {},
   "source": [
    "agent最简单的配置就是一个搭配了llm_with_tools的chatbot和一个工具集  \n",
    "chatbot将用户query和tools上下文输入到llm，llm返回可能得调用工具的信息，包括tool_name, tool_arg, tool_call_id等\n",
    "\n",
    "工具集节点接收chatbox返回的状态信息，对工具进行调用，tool.invoke,返回结果，作为observation传递给chatbot.\n"
   ]
  },
  {
   "cell_type": "code",
   "execution_count": 8,
   "id": "ce7fdfb3",
   "metadata": {},
   "outputs": [],
   "source": [
    "import os\n",
    "from typing_extensions import Literal\n",
    "from langchain_community.chat_models import ChatTongyi\n",
    "from typing_extensions import TypedDict\n",
    "from langgraph.graph import StateGraph, START, END\n",
    "from IPython.display import Image, display\n",
    "from pydantic import BaseModel, Field\n",
    "import operator\n",
    "from langchain_core.tools import tool\n",
    "from langgraph.graph import MessagesState\n",
    "from langchain_core.messages import SystemMessage, HumanMessage, ToolMessage"
   ]
  },
  {
   "cell_type": "code",
   "execution_count": null,
   "id": "4e527f7c",
   "metadata": {},
   "outputs": [],
   "source": [
    "# os.environ[\"LANGSMITH_API_KEY\"] = getpass.getpass(\"Enter your LangSmith API key: \")\n",
    "os.environ[\"LANGSMITH_TRACING\"] = \"true\"\n",
    "os.environ[\"LANGSMITH_PROJECT\"] = \"agent\""
   ]
  },
  {
   "cell_type": "code",
   "execution_count": 2,
   "id": "5833827e",
   "metadata": {},
   "outputs": [],
   "source": [
    "llm = ChatTongyi(\n",
    "    model=\"qwen-max\",\n",
    ")"
   ]
  },
  {
   "cell_type": "code",
   "execution_count": 4,
   "id": "89d9dc99",
   "metadata": {},
   "outputs": [],
   "source": [
    "# Define tools\n",
    "@tool\n",
    "def multiply(a: int, b: int) -> int:\n",
    "    \"\"\"Multiply a and b.\n",
    "\n",
    "    Args:\n",
    "        a: first int\n",
    "        b: second int\n",
    "    \"\"\"\n",
    "    return a * b\n",
    "\n",
    "\n",
    "@tool\n",
    "def add(a: int, b: int) -> int:\n",
    "    \"\"\"Adds a and b.\n",
    "\n",
    "    Args:\n",
    "        a: first int\n",
    "        b: second int\n",
    "    \"\"\"\n",
    "    return a + b\n",
    "\n",
    "\n",
    "@tool\n",
    "def divide(a: int, b: int) -> float:\n",
    "    \"\"\"Divide a and b.\n",
    "\n",
    "    Args:\n",
    "        a: first int\n",
    "        b: second int\n",
    "    \"\"\"\n",
    "    return a / b\n",
    "\n",
    "\n",
    "# Augment the LLM with tools\n",
    "tools = [add, multiply, divide]\n",
    "tools_by_name = {tool.name: tool for tool in tools}\n",
    "llm_with_tools = llm.bind_tools(tools)"
   ]
  },
  {
   "cell_type": "code",
   "execution_count": 6,
   "id": "d2ad36d8",
   "metadata": {},
   "outputs": [
    {
     "data": {
      "text/plain": [
       "{'add': StructuredTool(name='add', description='Adds a and b.\\n\\n    Args:\\n        a: first int\\n        b: second int', args_schema=<class 'langchain_core.utils.pydantic.add'>, func=<function add at 0x0000021CDCB28CC0>),\n",
       " 'multiply': StructuredTool(name='multiply', description='Multiply a and b.\\n\\n    Args:\\n        a: first int\\n        b: second int', args_schema=<class 'langchain_core.utils.pydantic.multiply'>, func=<function multiply at 0x0000021CDCB285E0>),\n",
       " 'divide': StructuredTool(name='divide', description='Divide a and b.\\n\\n    Args:\\n        a: first int\\n        b: second int', args_schema=<class 'langchain_core.utils.pydantic.divide'>, func=<function divide at 0x0000021CDD9598A0>)}"
      ]
     },
     "execution_count": 6,
     "metadata": {},
     "output_type": "execute_result"
    }
   ],
   "source": [
    "tools_by_name"
   ]
  },
  {
   "cell_type": "code",
   "execution_count": 13,
   "id": "164acd53",
   "metadata": {},
   "outputs": [
    {
     "data": {
      "image/png": "[encoded data removed]",
      "text/plain": [
       "<IPython.core.display.Image object>"
      ]
     },
     "metadata": {},
     "output_type": "display_data"
    }
   ],
   "source": [
    "# Nodes\n",
    "def llm_call(state: MessagesState):\n",
    "    \"\"\"LLM decides whether to call a tool or not\"\"\"\n",
    "\n",
    "    return {\n",
    "        \"messages\": [\n",
    "            llm_with_tools.invoke(\n",
    "                [\n",
    "                    SystemMessage(\n",
    "                        content=\"You are a helpful assistant tasked with performing arithmetic on a set of inputs.\"\n",
    "                    )\n",
    "                ]\n",
    "                + state[\"messages\"]\n",
    "            )\n",
    "        ]\n",
    "    }\n",
    "\n",
    "\n",
    "def tool_node(state: dict):\n",
    "    \"\"\"Performs the tool call\"\"\"\n",
    "\n",
    "    result = []\n",
    "    for tool_call in state[\"messages\"][-1].tool_calls:\n",
    "        tool = tools_by_name[tool_call[\"name\"]]\n",
    "        observation = tool.invoke(tool_call[\"args\"])\n",
    "        result.append(ToolMessage(content=observation, tool_call_id=tool_call[\"id\"]))\n",
    "    return {\"messages\": result}\n",
    "\n",
    "\n",
    "# Conditional edge function to route to the tool node or end based upon whether the LLM made a tool call\n",
    "def should_continue(state: MessagesState) -> Literal[\"Action\", END]:\n",
    "    \"\"\"Decide if we should continue the loop or stop based upon whether the LLM made a tool call\"\"\"\n",
    "\n",
    "    messages = state[\"messages\"]\n",
    "    last_message = messages[-1]\n",
    "    # If the LLM makes a tool call, then perform an action\n",
    "    if last_message.tool_calls:\n",
    "        return \"Action\"\n",
    "    # Otherwise, we stop (reply to the user)\n",
    "    return END\n",
    "\n",
    "\n",
    "# Build workflow\n",
    "agent_builder = StateGraph(MessagesState)\n",
    "\n",
    "# Add nodes\n",
    "agent_builder.add_node(\"llm_call\", llm_call)\n",
    "agent_builder.add_node(\"environment\", tool_node)\n",
    "\n",
    "# Add edges to connect nodes\n",
    "agent_builder.add_edge(START, \"llm_call\")\n",
    "agent_builder.add_conditional_edges(\n",
    "    \"llm_call\",\n",
    "    should_continue,\n",
    "    {\n",
    "        # Name returned by should_continue : Name of next node to visit\n",
    "        \"Action\": \"environment\",\n",
    "        END: END,\n",
    "    },\n",
    ")\n",
    "agent_builder.add_edge(\"environment\", \"llm_call\")\n",
    "\n",
    "# Compile the agent\n",
    "agent = agent_builder.compile()\n",
    "\n",
    "# Show the agent\n",
    "display(Image(agent.get_graph(xray=True).draw_mermaid_png()))"
   ]
  },
  {
   "cell_type": "code",
   "execution_count": 15,
   "id": "1ff5eb01",
   "metadata": {},
   "outputs": [
    {
     "name": "stdout",
     "output_type": "stream",
     "text": [
      "================================\u001b[1m Human Message \u001b[0m=================================\n",
      "\n",
      "七加八等于几\n",
      "==================================\u001b[1m Ai Message \u001b[0m==================================\n",
      "Tool Calls:\n",
      "  add (call_ac14398ce27a4f45b280e9)\n",
      " Call ID: call_ac14398ce27a4f45b280e9\n",
      "  Args:\n",
      "    a: 7\n",
      "    b: 8\n",
      "=================================\u001b[1m Tool Message \u001b[0m=================================\n",
      "\n",
      "15\n",
      "==================================\u001b[1m Ai Message \u001b[0m==================================\n",
      "\n",
      "七加八等于15。\n"
     ]
    }
   ],
   "source": [
    "# Invoke\n",
    "messages = [HumanMessage(content=\"七加八等于几\")]\n",
    "messages = agent.invoke({\"messages\": messages})\n",
    "for m in messages[\"messages\"]:\n",
    "    m.pretty_print()"
   ]
  },
  {
   "cell_type": "markdown",
   "id": "a059d17a",
   "metadata": {},
   "source": [
    "**说明**：MessagesState定义有Annotated[list[AnyMessage], add_messages],所以传进去的messages会一直累加。"
   ]
  },
  {
   "cell_type": "code",
   "execution_count": 17,
   "id": "5ecc664e",
   "metadata": {},
   "outputs": [
    {
     "data": {
      "image/png": "[encoded data removed]",
      "text/plain": [
       "<IPython.core.display.Image object>"
      ]
     },
     "metadata": {},
     "output_type": "display_data"
    }
   ],
   "source": [
    "from langgraph.prebuilt import create_react_agent\n",
    "\n",
    "# Pass in:\n",
    "# (1) the augmented LLM with tools\n",
    "# (2) the tools list (which is used to create the tool node)\n",
    "pre_built_agent = create_react_agent(llm, tools=tools)\n",
    "\n",
    "# Show the agent\n",
    "display(Image(pre_built_agent.get_graph().draw_mermaid_png()))\n"
   ]
  },
  {
   "cell_type": "code",
   "execution_count": 18,
   "id": "28a54616",
   "metadata": {},
   "outputs": [
    {
     "name": "stdout",
     "output_type": "stream",
     "text": [
      "================================\u001b[1m Human Message \u001b[0m=================================\n",
      "\n",
      "Add 3 and 4.\n",
      "==================================\u001b[1m Ai Message \u001b[0m==================================\n",
      "Tool Calls:\n",
      "  add (call_e986109d3a864bf6afc916)\n",
      " Call ID: call_e986109d3a864bf6afc916\n",
      "  Args:\n",
      "    a: 3\n",
      "    b: 4\n",
      "=================================\u001b[1m Tool Message \u001b[0m=================================\n",
      "Name: add\n",
      "\n",
      "7\n",
      "==================================\u001b[1m Ai Message \u001b[0m==================================\n",
      "\n",
      "The sum of 3 and 4 is 7.\n"
     ]
    }
   ],
   "source": [
    "\n",
    "# Invoke\n",
    "messages = [HumanMessage(content=\"Add 3 and 4.\")]\n",
    "messages = pre_built_agent.invoke({\"messages\": messages})\n",
    "for m in messages[\"messages\"]:\n",
    "    m.pretty_print()"
   ]
  },
  {
   "cell_type": "code",
   "execution_count": 19,
   "id": "5795eaaa",
   "metadata": {},
   "outputs": [],
   "source": [
    "from langgraph.prebuilt import ToolNode, tools_condition"
   ]
  },
  {
   "cell_type": "code",
   "execution_count": 21,
   "id": "985b4101",
   "metadata": {},
   "outputs": [
    {
     "name": "stdout",
     "output_type": "stream",
     "text": [
      "\u001b[31mSignature:\u001b[39m\n",
      "tools_condition(\n",
      "    state: Union[list[Annotated[Union[Annotated[langchain_core.messages.ai.AIMessage, Tag(tag=\u001b[33m'ai'\u001b[39m)], Annotated[langchain_core.messages.human.HumanMessage, Tag(tag=\u001b[33m'human'\u001b[39m)], Annotated[langchain_core.messages.chat.ChatMessage, Tag(tag=\u001b[33m'chat'\u001b[39m)], Annotated[langchain_core.messages.system.SystemMessage, Tag(tag=\u001b[33m'system'\u001b[39m)], Annotated[langchain_core.messages.function.FunctionMessage, Tag(tag=\u001b[33m'function'\u001b[39m)], Annotated[langchain_core.messages.tool.ToolMessage, Tag(tag=\u001b[33m'tool'\u001b[39m)], Annotated[langchain_core.messages.ai.AIMessageChunk, Tag(tag=\u001b[33m'AIMessageChunk'\u001b[39m)], Annotated[langchain_core.messages.human.HumanMessageChunk, Tag(tag=\u001b[33m'HumanMessageChunk'\u001b[39m)], Annotated[langchain_core.messages.chat.ChatMessageChunk, Tag(tag=\u001b[33m'ChatMessageChunk'\u001b[39m)], Annotated[langchain_core.messages.system.SystemMessageChunk, Tag(tag=\u001b[33m'SystemMessageChunk'\u001b[39m)], Annotated[langchain_core.messages.function.FunctionMessageChunk, Tag(tag=\u001b[33m'FunctionMessageChunk'\u001b[39m)], Annotated[langchain_core.messages.tool.ToolMessageChunk, Tag(tag=\u001b[33m'ToolMessageChunk'\u001b[39m)]], FieldInfo(annotation=NoneType, required=\u001b[38;5;28;01mTrue\u001b[39;00m, discriminator=Discriminator(discriminator=<function _get_type at \u001b[32m0x0000021CDD61DB20\u001b[39m>, custom_error_type=\u001b[38;5;28;01mNone\u001b[39;00m, custom_error_message=\u001b[38;5;28;01mNone\u001b[39;00m, custom_error_context=\u001b[38;5;28;01mNone\u001b[39;00m))]], dict[str, Any], pydantic.main.BaseModel],\n",
      "    messages_key: str = \u001b[33m'messages'\u001b[39m,\n",
      ") -> Literal[\u001b[33m'tools'\u001b[39m, \u001b[33m'__end__'\u001b[39m]\n",
      "\u001b[31mDocstring:\u001b[39m\n",
      "Use in the conditional_edge to route to the ToolNode if the last message\n",
      "\n",
      "has tool calls. Otherwise, route to the end.\n",
      "\n",
      "Args:\n",
      "    state: The state to check for\n",
      "        tool calls. Must have a list of messages (MessageGraph) or have the\n",
      "        \"messages\" key (StateGraph).\n",
      "\n",
      "Returns:\n",
      "    The next node to route to.\n",
      "\n",
      "\n",
      "Examples:\n",
      "    Create a custom ReAct-style agent with tools.\n",
      "\n",
      "    ```pycon\n",
      "    >>> from langchain_anthropic import ChatAnthropic\n",
      "    >>> from langchain_core.tools import tool\n",
      "    ...\n",
      "    >>> from langgraph.graph import StateGraph\n",
      "    >>> from langgraph.prebuilt import ToolNode, tools_condition\n",
      "    >>> from langgraph.graph.message import add_messages\n",
      "    ...\n",
      "    >>> from typing import Annotated\n",
      "    >>> from typing_extensions import TypedDict\n",
      "    ...\n",
      "    >>> @tool\n",
      "    >>> def divide(a: float, b: float) -> int:\n",
      "    ...     \"\"\"Return a / b.\"\"\"\n",
      "    ...     return a / b\n",
      "    ...\n",
      "    >>> llm = ChatAnthropic(model=\"claude-3-haiku-20240307\")\n",
      "    >>> tools = [divide]\n",
      "    ...\n",
      "    >>> class State(TypedDict):\n",
      "    ...     messages: Annotated[list, add_messages]\n",
      "    >>>\n",
      "    >>> graph_builder = StateGraph(State)\n",
      "    >>> graph_builder.add_node(\"tools\", ToolNode(tools))\n",
      "    >>> graph_builder.add_node(\"chatbot\", lambda state: {\"messages\":llm.bind_tools(tools).invoke(state['messages'])})\n",
      "    >>> graph_builder.add_edge(\"tools\", \"chatbot\")\n",
      "    >>> graph_builder.add_conditional_edges(\n",
      "    ...     \"chatbot\", tools_condition\n",
      "    ... )\n",
      "    >>> graph_builder.set_entry_point(\"chatbot\")\n",
      "    >>> graph = graph_builder.compile()\n",
      "    >>> graph.invoke({\"messages\": {\"role\": \"user\", \"content\": \"What's 329993 divided by 13662?\"}})\n",
      "    ```\n",
      "\u001b[31mFile:\u001b[39m      e:\\study\\langgraph-learn\\build_effective_agents\\.venv\\lib\\site-packages\\langgraph\\prebuilt\\tool_node.py\n",
      "\u001b[31mType:\u001b[39m      function"
     ]
    }
   ],
   "source": [
    "tools_condition?"
   ]
  },
  {
   "cell_type": "code",
   "execution_count": null,
   "id": "8d06dece",
   "metadata": {},
   "outputs": [],
   "source": []
  }
 ],
 "metadata": {
  "kernelspec": {
   "display_name": ".venv",
   "language": "python",
   "name": "python3"
  },
  "language_info": {
   "codemirror_mode": {
    "name": "ipython",
    "version": 3
   },
   "file_extension": ".py",
   "mimetype": "text/x-python",
   "name": "python",
   "nbconvert_exporter": "python",
   "pygments_lexer": "ipython3",
   "version": "3.12.10"
  }
 },
 "nbformat": 4,
 "nbformat_minor": 5
}
