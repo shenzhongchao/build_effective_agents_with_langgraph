{
 "cells": [
  {
   "cell_type": "code",
   "execution_count": 1,
   "id": "f60b3988",
   "metadata": {},
   "outputs": [],
   "source": [
    "from typing import Annotated\n",
    "import os\n",
    "from langchain_tavily import TavilySearch\n",
    "from langchain_core.tools import tool\n",
    "from typing_extensions import TypedDict\n",
    "from IPython.display import Image, display\n",
    "from langgraph.checkpoint.memory import MemorySaver\n",
    "from langgraph.graph import StateGraph, START, END\n",
    "from langgraph.graph.message import add_messages\n",
    "from langgraph.prebuilt import ToolNode, tools_condition\n",
    "from langchain_community.chat_models import ChatTongyi\n",
    "from langgraph.types import Command, interrupt\n",
    "from langchain_openai import ChatOpenAI\n",
    "\n"
   ]
  },
  {
   "cell_type": "code",
   "execution_count": 2,
   "id": "61d882e5",
   "metadata": {},
   "outputs": [],
   "source": [
    "# os.environ[\"LANGSMITH_API_KEY\"] = getpass.getpass(\"Enter your LangSmith API key: \")\n",
    "os.environ[\"LANGSMITH_TRACING\"] = \"true\"\n",
    "os.environ[\"LANGSMITH_PROJECT\"] = \"human_in_the_loop\""
   ]
  },
  {
   "cell_type": "code",
   "execution_count": 3,
   "id": "4899b613",
   "metadata": {},
   "outputs": [],
   "source": [
    "llm = ChatOpenAI(model=\"gpt-4o-mini\")\n",
    "#llm = ChatTongyi(model=\"qwen-max\")"
   ]
  },
  {
   "cell_type": "code",
   "execution_count": null,
   "id": "b9153209",
   "metadata": {},
   "outputs": [],
   "source": []
  },
  {
   "cell_type": "code",
   "execution_count": 4,
   "id": "87ff8849",
   "metadata": {},
   "outputs": [],
   "source": [
    "class State(TypedDict):\n",
    "    messages: Annotated[list, add_messages]\n",
    "\n",
    "graph_builder = StateGraph(State)"
   ]
  },
  {
   "cell_type": "code",
   "execution_count": 5,
   "id": "d5a7c041",
   "metadata": {},
   "outputs": [],
   "source": [
    "@tool\n",
    "def human_assistance(query: str) -> str:\n",
    "    \"\"\"Request assistance from a human.\"\"\"\n",
    "    human_response = interrupt({\"query\": query})\n",
    "    return human_response[\"data\"]\n",
    "\n",
    "tool = TavilySearch(max_results=2)\n",
    "tools = [tool, human_assistance]\n",
    "llm_with_tools = llm.bind_tools(tools)"
   ]
  },
  {
   "cell_type": "code",
   "execution_count": 6,
   "id": "5e19aa4f",
   "metadata": {},
   "outputs": [
    {
     "data": {
      "text/plain": [
       "<langgraph.graph.state.StateGraph at 0x1065d3b1a00>"
      ]
     },
     "execution_count": 6,
     "metadata": {},
     "output_type": "execute_result"
    }
   ],
   "source": [
    "def chatbot(state: State):\n",
    "    message = llm_with_tools.invoke(state[\"messages\"])\n",
    "    # Because we will be interrupting during tool execution,\n",
    "    # we disable parallel tool calling to avoid repeating any\n",
    "    # tool invocations when we resume.\n",
    "    assert len(message.tool_calls) <= 1\n",
    "    return {\"messages\": [message]}\n",
    "\n",
    "graph_builder.add_node(\"chatbot\", chatbot)\n",
    "\n",
    "tool_node = ToolNode(tools=tools)\n",
    "graph_builder.add_node(\"tools\", tool_node)\n",
    "\n",
    "graph_builder.add_conditional_edges(\n",
    "    \"chatbot\",\n",
    "    tools_condition,\n",
    ")\n",
    "graph_builder.add_edge(\"tools\", \"chatbot\")\n",
    "graph_builder.add_edge(START, \"chatbot\")"
   ]
  },
  {
   "cell_type": "code",
   "execution_count": 7,
   "id": "66d396ac",
   "metadata": {},
   "outputs": [],
   "source": [
    "memory = MemorySaver()\n",
    "\n",
    "graph = graph_builder.compile(checkpointer=memory)"
   ]
  },
  {
   "cell_type": "code",
   "execution_count": 8,
   "id": "423a1761",
   "metadata": {},
   "outputs": [
    {
     "data": {
      "image/png": "[encoded data removed]",
      "text/plain": [
       "<IPython.core.display.Image object>"
      ]
     },
     "metadata": {},
     "output_type": "display_data"
    }
   ],
   "source": [
    "display(Image(graph.get_graph().draw_mermaid_png()))"
   ]
  },
  {
   "cell_type": "code",
   "execution_count": 10,
   "id": "33ca8321",
   "metadata": {},
   "outputs": [
    {
     "name": "stdout",
     "output_type": "stream",
     "text": [
      "================================\u001b[1m Human Message \u001b[0m=================================\n",
      "\n",
      "I need some expert guidance for building an AI agent. Could you request assistance for me?\n",
      "==================================\u001b[1m Ai Message \u001b[0m==================================\n",
      "Tool Calls:\n",
      "  human_assistance (call_DhoA1M9yYSDEhHbleFCxsgon)\n",
      " Call ID: call_DhoA1M9yYSDEhHbleFCxsgon\n",
      "  Args:\n",
      "    query: I need expert guidance on building an AI agent. I'm looking for information on best practices, tools, technologies, and frameworks to use. Any recommendations or insights would be appreciated.\n"
     ]
    }
   ],
   "source": [
    "user_input = \"I need some expert guidance for building an AI agent. Could you request assistance for me?\"\n",
    "config = {\"configurable\": {\"thread_id\": \"1\"}}\n",
    "\n",
    "events = graph.stream(\n",
    "    {\"messages\": [{\"role\": \"user\", \"content\": user_input}]},\n",
    "    config,\n",
    "    stream_mode=\"values\",\n",
    ")\n",
    "for event in events:\n",
    "    if \"messages\" in event:\n",
    "        event[\"messages\"][-1].pretty_print()"
   ]
  },
  {
   "cell_type": "markdown",
   "id": "0db0af48",
   "metadata": {},
   "source": [
    "**The chatbot generated a tool call, but then execution has been interrupted.**\n",
    "\n",
    "**If you inspect the graph state, you see that it stopped at the tools node**\n",
    "\n",
    "chatbot产生了tool call的message，但tools节点没有执行，在tool内调用interrupt会中断执行，等待人类反馈。"
   ]
  },
  {
   "cell_type": "code",
   "execution_count": 11,
   "id": "8f7c70c8",
   "metadata": {},
   "outputs": [],
   "source": [
    "snapshot = graph.get_state(config)"
   ]
  },
  {
   "cell_type": "code",
   "execution_count": 14,
   "id": "aa79a865",
   "metadata": {},
   "outputs": [
    {
     "data": {
      "text/plain": [
       "('tools',)"
      ]
     },
     "execution_count": 14,
     "metadata": {},
     "output_type": "execute_result"
    }
   ],
   "source": [
    "snapshot.next"
   ]
  },
  {
   "cell_type": "code",
   "execution_count": 17,
   "id": "5ab749ec",
   "metadata": {},
   "outputs": [
    {
     "data": {
      "text/plain": [
       "(Interrupt(value={'query': \"I need expert guidance on building an AI agent. I'm looking for information on best practices, tools, technologies, and frameworks to use. Any recommendations or insights would be appreciated.\"}, resumable=True, ns=['tools:c10b8a8e-c730-b882-be7a-53f734c816ff']),)"
      ]
     },
     "execution_count": 17,
     "metadata": {},
     "output_type": "execute_result"
    }
   ],
   "source": [
    "snapshot.interrupts"
   ]
  },
  {
   "cell_type": "markdown",
   "id": "e41d7deb",
   "metadata": {},
   "source": [
    "## Resume"
   ]
  },
  {
   "cell_type": "code",
   "execution_count": 18,
   "id": "762363ad",
   "metadata": {},
   "outputs": [
    {
     "name": "stdout",
     "output_type": "stream",
     "text": [
      "==================================\u001b[1m Ai Message \u001b[0m==================================\n",
      "Tool Calls:\n",
      "  human_assistance (call_DhoA1M9yYSDEhHbleFCxsgon)\n",
      " Call ID: call_DhoA1M9yYSDEhHbleFCxsgon\n",
      "  Args:\n",
      "    query: I need expert guidance on building an AI agent. I'm looking for information on best practices, tools, technologies, and frameworks to use. Any recommendations or insights would be appreciated.\n",
      "=================================\u001b[1m Tool Message \u001b[0m=================================\n",
      "Name: human_assistance\n",
      "\n",
      "We, the experts are here to help! We'd recommend you check out LangGraph to build your agent. It's much more reliable and extensible than simple autonomous agents.\n",
      "==================================\u001b[1m Ai Message \u001b[0m==================================\n",
      "\n",
      "I received some expert guidance on building an AI agent. They recommend using **LangGraph** as a reliable and extensible option compared to simpler autonomous agents. This could provide you with a solid foundation for your project. If you need further details or additional resources, let me know!\n"
     ]
    }
   ],
   "source": [
    "human_response = (\n",
    "    \"We, the experts are here to help! We'd recommend you check out LangGraph to build your agent.\"\n",
    "    \" It's much more reliable and extensible than simple autonomous agents.\"\n",
    ")\n",
    "\n",
    "human_command = Command(resume={\"data\": human_response})\n",
    "\n",
    "events = graph.stream(human_command, config, stream_mode=\"values\")\n",
    "for event in events:\n",
    "    if \"messages\" in event:\n",
    "        event[\"messages\"][-1].pretty_print()"
   ]
  },
  {
   "cell_type": "code",
   "execution_count": 22,
   "id": "df575428",
   "metadata": {},
   "outputs": [],
   "source": [
    "to_replay = list(graph.get_state_history(config))[4]"
   ]
  },
  {
   "cell_type": "code",
   "execution_count": 27,
   "id": "28a04f7b",
   "metadata": {},
   "outputs": [
    {
     "data": {
      "text/plain": [
       "[HumanMessage(content='我想要了解中国目前有哪些热点新闻', additional_kwargs={}, response_metadata={}, id='9631e803-7132-42c6-b14f-7a72a5c831ae'),\n",
       " AIMessage(content='', additional_kwargs={'tool_calls': [{'id': 'call_XfGhBAk9ryL5Kbz0KHhLA0MA', 'function': {'arguments': '{\"query\":\"中国 热点新闻\",\"topic\":\"news\",\"time_range\":\"week\"}', 'name': 'tavily_search'}, 'type': 'function'}], 'refusal': None}, response_metadata={'token_usage': {'completion_tokens': 29, 'prompt_tokens': 821, 'total_tokens': 850, 'completion_tokens_details': {'accepted_prediction_tokens': 0, 'audio_tokens': 0, 'reasoning_tokens': 0, 'rejected_prediction_tokens': 0}, 'prompt_tokens_details': {'audio_tokens': 0, 'cached_tokens': 0}}, 'model_name': 'gpt-4o-mini-2024-07-18', 'system_fingerprint': 'fp_efad92c60b', 'id': 'chatcmpl-BtsJ0t5eVjzMQopJc2g6gGqpBPm58', 'service_tier': None, 'finish_reason': 'tool_calls', 'logprobs': None}, id='run--2202d942-763d-4c27-89fc-7db1a5acee07-0', tool_calls=[{'name': 'tavily_search', 'args': {'query': '中国 热点新闻', 'topic': 'news', 'time_range': 'week'}, 'id': 'call_XfGhBAk9ryL5Kbz0KHhLA0MA', 'type': 'tool_call'}], usage_metadata={'input_tokens': 821, 'output_tokens': 29, 'total_tokens': 850, 'input_token_details': {'audio': 0, 'cache_read': 0}, 'output_token_details': {'audio': 0, 'reasoning': 0}}),\n",
       " ToolMessage(content='{\"query\": \"中国 热点新闻\", \"follow_up_questions\": null, \"answer\": null, \"images\": [], \"results\": [{\"url\": \"https://www.chinadaily.com.cn/a/202507/14/WS6874c9d0a31000e9a573bed2.html\", \"title\": \"War provocations by \\'Taiwan independence\\' armed forces only lead to self-destruction: defense ministry - China Daily\", \"score\": 0.4674539, \"published_date\": \"Mon, 14 Jul 2025 09:11:00 GMT\", \"content\": \"Image 1 Image 2: chinadaily Image 3 Image 4 Image 5 Image 6Image 7 Home/ China/ Latest news Image 8: Share to ... BEIJING -- War provocations by \\\\\"Taiwan independence\\\\\" armed forces are futile and will only lead to self-destruction, said a Chinese defense spokesperson on Monday. Image 28 Image 29 Image 30 Image 31 Image 32High-speed rail: Driving China\\'s modernization Image 34 Image 35 Image 36 Image 39 Image 40 The content (including but not limited to text, photo, multimedia information, etc) published in this site belongs to China Daily Information Co (CDIC). Image 42Image 43 The content (including but not limited to text, photo, multimedia information, etc) published in this site belongs to China Daily Information Co (CDIC).\", \"raw_content\": null}, {\"url\": \"https://www.greenwichtime.com/news/world/article/china-s-exports-jump-5-8-in-june-as-tariffs-20768543.php\", \"title\": \"China\\'s exports jump 5.8% in June as tariffs reprieve prompts a rush of orders - Greenwich Time\", \"score\": 0.392221, \"published_date\": \"Mon, 14 Jul 2025 05:03:38 GMT\", \"content\": \"%26utm_source%3Dfacebook.com%26utm_medium%3Dreferral&name=China%27s%20exports%20jump%205.8%25%20in%20June%20as%20tariffs%20reprieve%20prompts%20a%20rush%20of%20orders&description=China%20has%20reported%20its%20exports%20accelerated%20in%20June%20as%20a%20reprieve%20on%20U.S.%20tariffs%20prompted%20a%20rush%20of%20orders%20by%20companies%20and%20consumers.%20Exports%20climbed%205.8%25%20from%20a%20year%20earlier%2C%20up%20from%20a%204.8%25%20increase...&picture=https%3A%2F%2Fs.hdnux.com%2Fphotos%2F01%2F50%2F55%2F25%2F27448653%2F3%2FrawImage.jpg&redirect_uri=https%3A%2F%2Fwww.greenwichtime.com%2Fnews%2Fworld%2Farticle%2Fchina-s-exports-jump-5-8-in-june-as-tariffs-20768543.php%3Futm_campaign%3DCMS%2520Sharing%2520Tools%2520(Premium)%26utm_source%3DUTMSOURCE%26utm_medium%3DUTMMEDIUM)%26utm_source%3Dt.co%26utm_medium%3Dreferral&text=China%27s%20exports%20jump%205.8%25%20in%20June%20as%20tariffs%20reprieve%20prompts%20a%20rush%20of%20orders&via=GreenwichTime)%26utm_source%3Dbsky.app%26utm_medium%3Dreferral)%26utm_source%3Dshare-by-email%26utm_medium%3Demail%0A%0AChina%20has%20reported%20its%20exports%20accelerated%20in%20June%20as%20a%20reprieve%20on%20U.S.%20tariffs%20prompted%20a%20rush%20of%20orders%20by%20companies%20and%20consumers.%20Exports%20climbed%205.8%25%20from%20a%20year%20earlier%2C%20up%20from%20a%204.8%25%20increase...%0A%0AThis%20message%20was%20sent%20via%20Greenwich%20Time) Image 1: Construction cranes stand against the residential building in Beijing, Monday, June 16, 2025. Image 2: People pay for their goods at a clothing retail outlet inside a newly opened Chinese e-commerce platform JD.com shopping mall, in Beijing, Monday, June 16, 2025. BEIJING (AP) — China’s exports accelerated in June as a reprieve on U.S. tariffs prompted a rush of orders by companies and consumers. Image 5 Image 7: The rainbow flag is raised during the LGBTQ+ Pride Celebration at Town Hall in Greenwich, Conn. Image 12 Image 13 Image 14 Image 15 Image 16 Image 17 Image 18 Image 19 Image 37 Image 38 Image 39\", \"raw_content\": null}], \"response_time\": 0.28}', name='tavily_search', id='e37b2cd6-4df3-4703-b835-8144680c4521', tool_call_id='call_XfGhBAk9ryL5Kbz0KHhLA0MA'),\n",
       " AIMessage(content='以下是最近关于中国的一些热点新闻：\\n\\n1. **台湾独立武装的战争挑衅将自取灭亡**  \\n   中国国防部发言人表示，台湾独立武装的战争挑衅是徒劳的，只会导致自我毁灭。更多详情请参阅 [China Daily](https://www.chinadaily.com.cn/a/202507/14/WS6874c9d0a31000e9a573bed2.html)。\\n\\n2. **中国6月份出口增长5.8%**  \\n   报道称，由于美国关税的缓解，促使公司和消费者下单，中国的出口在6月加速增长，同比上升5.8%。详细信息请查看 [Greenwich Time](https://www.greenwichtime.com/news/world/article/china-s-exports-jump-5-8-in-june-as-tariffs-20768543.php)。\\n\\n如果您想了解更多信息或其他方面的新闻，请告知我！', additional_kwargs={'refusal': None}, response_metadata={'token_usage': {'completion_tokens': 216, 'prompt_tokens': 2054, 'total_tokens': 2270, 'completion_tokens_details': {'accepted_prediction_tokens': 0, 'audio_tokens': 0, 'reasoning_tokens': 0, 'rejected_prediction_tokens': 0}, 'prompt_tokens_details': {'audio_tokens': 0, 'cached_tokens': 0}}, 'model_name': 'gpt-4o-mini-2024-07-18', 'system_fingerprint': 'fp_efad92c60b', 'id': 'chatcmpl-BtsJ6PRhSS33S25Fyy9IWEa3Py0IS', 'service_tier': None, 'finish_reason': 'stop', 'logprobs': None}, id='run--17c2fbd7-a951-46dd-9efd-69ed6bb1fa0b-0', usage_metadata={'input_tokens': 2054, 'output_tokens': 216, 'total_tokens': 2270, 'input_token_details': {'audio': 0, 'cache_read': 0}, 'output_token_details': {'audio': 0, 'reasoning': 0}})]"
      ]
     },
     "execution_count": 27,
     "metadata": {},
     "output_type": "execute_result"
    }
   ],
   "source": [
    "to_replay.values['messages']"
   ]
  },
  {
   "cell_type": "code",
   "execution_count": 28,
   "id": "55d4b414",
   "metadata": {},
   "outputs": [
    {
     "name": "stdout",
     "output_type": "stream",
     "text": [
      "==================================\u001b[1m Ai Message \u001b[0m==================================\n",
      "\n",
      "以下是最近关于中国的一些热点新闻：\n",
      "\n",
      "1. **台湾独立武装的战争挑衅将自取灭亡**  \n",
      "   中国国防部发言人表示，台湾独立武装的战争挑衅是徒劳的，只会导致自我毁灭。更多详情请参阅 [China Daily](https://www.chinadaily.com.cn/a/202507/14/WS6874c9d0a31000e9a573bed2.html)。\n",
      "\n",
      "2. **中国6月份出口增长5.8%**  \n",
      "   报道称，由于美国关税的缓解，促使公司和消费者下单，中国的出口在6月加速增长，同比上升5.8%。详细信息请查看 [Greenwich Time](https://www.greenwichtime.com/news/world/article/china-s-exports-jump-5-8-in-june-as-tariffs-20768543.php)。\n",
      "\n",
      "如果您想了解更多信息或其他方面的新闻，请告知我！\n",
      "================================\u001b[1m Human Message \u001b[0m=================================\n",
      "\n",
      "I need some expert guidance for building an AI agent. Could you request assistance for me?\n",
      "==================================\u001b[1m Ai Message \u001b[0m==================================\n",
      "Tool Calls:\n",
      "  human_assistance (call_gIP0KNUXbzPNyVCQqg8ZMuGo)\n",
      " Call ID: call_gIP0KNUXbzPNyVCQqg8ZMuGo\n",
      "  Args:\n",
      "    query: I need expert guidance for building an AI agent. Can you provide advice on the best practices, tools, and methodologies to use?\n"
     ]
    }
   ],
   "source": [
    "for event in graph.stream(None, to_replay.config, stream_mode=\"values\"):\n",
    "    if \"messages\" in event:\n",
    "        event[\"messages\"][-1].pretty_print()"
   ]
  },
  {
   "cell_type": "code",
   "execution_count": null,
   "id": "b62b60f2",
   "metadata": {},
   "outputs": [],
   "source": []
  }
 ],
 "metadata": {
  "kernelspec": {
   "display_name": ".venv",
   "language": "python",
   "name": "python3"
  },
  "language_info": {
   "codemirror_mode": {
    "name": "ipython",
    "version": 3
   },
   "file_extension": ".py",
   "mimetype": "text/x-python",
   "name": "python",
   "nbconvert_exporter": "python",
   "pygments_lexer": "ipython3",
   "version": "3.12.10"
  }
 },
 "nbformat": 4,
 "nbformat_minor": 5
}
